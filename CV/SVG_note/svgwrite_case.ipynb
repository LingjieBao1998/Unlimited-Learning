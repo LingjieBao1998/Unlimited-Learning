{
 "cells": [
  {
   "cell_type": "code",
   "execution_count": 2,
   "metadata": {},
   "outputs": [],
   "source": [
    "import svgwrite\n",
    "\n",
    "#线条\n",
    "dwg=svgwrite.Drawing(\"test.svg\", profile=\"full\", width = 400,height=400)\n",
    "# dwg.add(dwg.line(start=(100, 100), end=(200, 100), stroke=\"red\",stroke_width=3))\n",
    "# dwg.save()\n",
    "\n",
    "#矩形\n",
    "# dwg.add(dwg.rect(insert=(100,110),size=(100,100),rx =15,ry=15,fill=\"red\",stroke=\"black\", stroke_width=3))\n",
    "\n",
    "#圆形\n",
    "dwg.add(dwg.circle(center=(150,160),r=50, fill=\"blue\",stroke=\"black\"))\n",
    "dwg.save()\n",
    "\n",
    "# #椭圆\n",
    "# dwg.add(dwg.ellipse(center=(150,160),r=(60,30), fill=\"green\",stroke=\"black\"))\n",
    "\n",
    "# #多线条\n",
    "# dwg.add(dwg.polyline(points=[(100,50),(130,90),(160,50),(200,90)],fill=\"none\",stroke=\"green\",stroke_width=4))\n",
    "\n",
    "# #多边形\n",
    "# dwg.add(dwg.polygon(points=[(70,15),(75.8,32.2),(93.8,32.2),(79.4,43),(84.6,60.2),(70,50),(55.4,60.2),(60.6,43),(46.2,32.2),(64.2,32.2)],fill=\"red\",stroke=\"blue\"))\n",
    "\n",
    "# #文本\n",
    "# dwg.add(dwg.text(\"Test\", insert=(10, 150), fill=\"red\", font_family=\"Arial\",font_size=32))"
   ]
  },
  {
   "cell_type": "code",
   "execution_count": 5,
   "metadata": {},
   "outputs": [],
   "source": [
    "import drawsvg as draw"
   ]
  },
  {
   "cell_type": "code",
   "execution_count": 6,
   "metadata": {},
   "outputs": [],
   "source": [
    "d = draw.Drawing(200, 100, origin='center')"
   ]
  },
  {
   "cell_type": "code",
   "execution_count": 9,
   "metadata": {},
   "outputs": [],
   "source": [
    "temp = (draw.Circle(-40, 10, 30,\n",
    "        fill='red', stroke_width=2, stroke='black'))"
   ]
  },
  {
   "cell_type": "code",
   "execution_count": 10,
   "metadata": {},
   "outputs": [
    {
     "data": {
      "text/plain": [
       "{'args': {'cx': -40,\n",
       "  'cy': 10,\n",
       "  'r': 30,\n",
       "  'fill': 'red',\n",
       "  'stroke-width': 2,\n",
       "  'stroke': 'black'},\n",
       " 'children': [],\n",
       " 'ordered_children': defaultdict(list, {}),\n",
       " 'animation_data': <drawsvg.native_animation.synced_animation.AnimationHelperData at 0x7632ec0e0ca0>,\n",
       " '_cached_context': None,\n",
       " '_cached_extra_children_with_context': None}"
      ]
     },
     "execution_count": 10,
     "metadata": {},
     "output_type": "execute_result"
    }
   ],
   "source": [
    "vars(temp)"
   ]
  },
  {
   "cell_type": "code",
   "execution_count": 11,
   "metadata": {},
   "outputs": [],
   "source": [
    "d.save_svg('example.svg')"
   ]
  },
  {
   "cell_type": "code",
   "execution_count": 12,
   "metadata": {},
   "outputs": [],
   "source": [
    "import drawsvg as dw"
   ]
  },
  {
   "cell_type": "code",
   "execution_count": 13,
   "metadata": {},
   "outputs": [],
   "source": [
    "d = dw.Drawing(400, 300, id_prefix='pic')"
   ]
  },
  {
   "cell_type": "code",
   "execution_count": 14,
   "metadata": {},
   "outputs": [],
   "source": [
    "d.append(dw.Circle(50, 50, 40))\n",
    "d.append(dw.Circle(150, 50, 40,\n",
    "                   stroke='black', fill='none'))\n",
    "d.append(dw.Circle(250, 50, 40,\n",
    "                   stroke='black', fill='none',\n",
    "                   stroke_width=15))"
   ]
  },
  {
   "cell_type": "code",
   "execution_count": 15,
   "metadata": {},
   "outputs": [
    {
     "data": {
      "image/svg+xml": [
       "<?xml version=\"1.0\" encoding=\"UTF-8\"?>\n",
       "<svg xmlns=\"http://www.w3.org/2000/svg\" xmlns:xlink=\"http://www.w3.org/1999/xlink\"\n",
       "     width=\"400\" height=\"300\" viewBox=\"0 0 400 300\">\n",
       "<defs>\n",
       "</defs>\n",
       "<circle cx=\"50\" cy=\"50\" r=\"40\" />\n",
       "<circle cx=\"150\" cy=\"50\" r=\"40\" stroke=\"black\" fill=\"none\" />\n",
       "<circle cx=\"250\" cy=\"50\" r=\"40\" stroke=\"black\" fill=\"none\" stroke-width=\"15\" />\n",
       "</svg>"
      ],
      "text/plain": [
       "<drawsvg.drawing.Drawing at 0x7632e4713ca0>"
      ]
     },
     "execution_count": 15,
     "metadata": {},
     "output_type": "execute_result"
    }
   ],
   "source": [
    "d"
   ]
  },
  {
   "cell_type": "code",
   "execution_count": 16,
   "metadata": {},
   "outputs": [],
   "source": [
    "d.save_svg('example.svg')"
   ]
  }
 ],
 "metadata": {
  "kernelspec": {
   "display_name": "py39",
   "language": "python",
   "name": "python3"
  },
  "language_info": {
   "codemirror_mode": {
    "name": "ipython",
    "version": 3
   },
   "file_extension": ".py",
   "mimetype": "text/x-python",
   "name": "python",
   "nbconvert_exporter": "python",
   "pygments_lexer": "ipython3",
   "version": "3.9.21"
  }
 },
 "nbformat": 4,
 "nbformat_minor": 2
}
